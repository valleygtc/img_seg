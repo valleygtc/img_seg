{
 "cells": [
  {
   "cell_type": "code",
   "execution_count": 1,
   "metadata": {},
   "outputs": [],
   "source": [
    "import numpy as np\n",
    "import cv2 as cv\n",
    "import matplotlib\n",
    "from matplotlib import pyplot as plt"
   ]
  },
  {
   "cell_type": "code",
   "execution_count": 2,
   "metadata": {},
   "outputs": [],
   "source": [
    "img_name = 'img/lena_std.tif'\n",
    "img = cv.imread(img_name, cv.IMREAD_GRAYSCALE)\n",
    "\n",
    "hist_2d, xbins, ybins = np.histogram2d(img.ravel(), cv.blur(img, (3, 3)).ravel(), bins=256, range=((0, 256), (0, 256)), density=True)"
   ]
  },
  {
   "cell_type": "code",
   "execution_count": 7,
   "metadata": {},
   "outputs": [],
   "source": [
    "def max_entropy_2d(hist_2d):\n",
    "    \"\"\"\n",
    "    Implements AHMED S. ABLJTALEB* (2d Maximum Entropy) thresholding method\n",
    "    AHMED S. ABLJTALEB* (1989) \"Automatic Thresholding of Gray-Level Pictures Using Two-Dimensional Entropy\"\n",
    "    Params:\n",
    "        hist_2d [np.array]: 归一化后的二维直方图，i：像素灰度值，j：像素3*3邻域平均灰度值。\n",
    "    Return:\n",
    "        threshold [int]: threshold calculated by 2维最大熵算法\n",
    "    \"\"\"\n",
    "    pdf_normal = hist_2d.cumsum().reshape(hist_2d.shape)\n",
    "\n",
    "    nonzero_indices = np.nonzero(hist_2d)\n",
    "    i_start, i_end = nonzero_indices[0][0], nonzero_indices[0][-1]\n",
    "    j_start, j_end = nonzero_indices[1][0], nonzero_indices[1][-1]\n",
    "\n",
    "    total_range = hist_2d[hist_2d != 0]\n",
    "    H_mm = -np.sum(total_range * np.log(total_range))\n",
    "    max_ent, threshold = 0, 0\n",
    "    for i in range(i_start, i_end):\n",
    "        for j in range(j_start, j_end):\n",
    "            P_st = pdf_normal[i][j]\n",
    "            st_range = hist_2d[:i+1,:j+1]\n",
    "            st_range = st_range[st_range != 0]\n",
    "            H_st = -np.sum(st_range * np.log(st_range))\n",
    "            total_ent = np.log(P_st * (1 - P_st)) + H_st/P_st + (H_mm - H_st)/(1 - P_st)\n",
    "            # find max\n",
    "            if total_ent > max_ent:\n",
    "                max_ent, threshold = total_ent, i\n",
    "\n",
    "    return threshold"
   ]
  },
  {
   "cell_type": "code",
   "execution_count": 8,
   "metadata": {},
   "outputs": [
    {
     "data": {
      "text/plain": [
       "(256, 256)"
      ]
     },
     "execution_count": 8,
     "metadata": {},
     "output_type": "execute_result"
    }
   ],
   "source": [
    "hist_2d.shape"
   ]
  }
 ],
 "metadata": {
  "kernelspec": {
   "display_name": "Python 3",
   "language": "python",
   "name": "python3"
  },
  "language_info": {
   "codemirror_mode": {
    "name": "ipython",
    "version": 3
   },
   "file_extension": ".py",
   "mimetype": "text/x-python",
   "name": "python",
   "nbconvert_exporter": "python",
   "pygments_lexer": "ipython3",
   "version": "3.7.3"
  }
 },
 "nbformat": 4,
 "nbformat_minor": 2
}
